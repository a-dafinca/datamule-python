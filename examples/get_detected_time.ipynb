{
 "cells": [
  {
   "cell_type": "code",
   "execution_count": null,
   "id": "d9d3d3d8",
   "metadata": {},
   "outputs": [
    {
     "name": "stdout",
     "output_type": "stream",
     "text": [
      "QUERY: CIK=1966644, Date=20250101 to 20251231, Columns=['accessionNumber', 'cik', 'filingDate', 'submissionType', 'detectedTime']\n"
     ]
    },
    {
     "name": "stderr",
     "output_type": "stream",
     "text": [
      "Fetching data (page 1): : 1 page [00:00<00:00,  1.59page/s, cost=$0.0001 | balance=$4744.75]"
     ]
    },
    {
     "name": "stdout",
     "output_type": "stream",
     "text": [
      "Retrieved 7 records (page 1) - Fetching additional pages...\n",
      "\n",
      "Query complete:\n",
      "- Retrieved 7 records across 1 pages\n",
      "- Total cost: $0.0001\n",
      "- Remaining balance: $4744.75\n",
      "- Time: 0.6 seconds\n",
      "result: {'accessionNumber': 183724025000077, 'cik': 1966644, 'filingDate': '2025-03-04T00:00:00.000Z', 'submissionType': '4', 'detectedTime': None}\n",
      "result: {'accessionNumber': 183724025000102, 'cik': 1966644, 'filingDate': '2025-03-10T00:00:00.000Z', 'submissionType': '4', 'detectedTime': None}\n",
      "result: {'accessionNumber': 183724025000182, 'cik': 1966644, 'filingDate': '2025-05-29T00:00:00.000Z', 'submissionType': '4', 'detectedTime': None}\n",
      "result: {'accessionNumber': 183724025000205, 'cik': 1966644, 'filingDate': '2025-06-18T00:00:00.000Z', 'submissionType': '4', 'detectedTime': None}\n",
      "result: {'accessionNumber': 183724025000223, 'cik': 1966644, 'filingDate': '2025-07-11T00:00:00.000Z', 'submissionType': '4', 'detectedTime': '2025-07-12T00:36:26.000Z'}\n",
      "result: {'accessionNumber': 195004725003485, 'cik': 1966644, 'filingDate': '2025-05-27T00:00:00.000Z', 'submissionType': '144', 'detectedTime': None}\n",
      "result: {'accessionNumber': 195004725004954, 'cik': 1966644, 'filingDate': '2025-07-10T00:00:00.000Z', 'submissionType': '144', 'detectedTime': '2025-07-10T20:31:42.000Z'}\n"
     ]
    },
    {
     "name": "stderr",
     "output_type": "stream",
     "text": [
      "\n"
     ]
    }
   ],
   "source": [
    "from datamule import Sheet\n",
    "\n",
    "\n",
    "# detected time is when datamule found the submission. This is within 200ms of the rss feed updating.\n",
    "# when rss misses a file, it is the time found using the efts endpoint\n",
    "# note that there are ways to get submissions 1-2s early, and their metadata 30s-1min earlier.\n",
    "sheet = Sheet('detectedtime')\n",
    "results = sheet.get_submissions(cik='1966644',filing_date=('2025-01-01','2025-12-31'))\n",
    "for result in results:\n",
    "    print(f\"result: {result}\")"
   ]
  }
 ],
 "metadata": {
  "kernelspec": {
   "display_name": "Python 3",
   "language": "python",
   "name": "python3"
  },
  "language_info": {
   "codemirror_mode": {
    "name": "ipython",
    "version": 3
   },
   "file_extension": ".py",
   "mimetype": "text/x-python",
   "name": "python",
   "nbconvert_exporter": "python",
   "pygments_lexer": "ipython3",
   "version": "3.13.2"
  }
 },
 "nbformat": 4,
 "nbformat_minor": 5
}
