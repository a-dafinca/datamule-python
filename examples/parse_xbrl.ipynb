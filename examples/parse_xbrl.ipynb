{
 "cells": [
  {
   "cell_type": "code",
   "execution_count": 1,
   "id": "cd39fc2a",
   "metadata": {},
   "outputs": [
    {
     "name": "stdout",
     "output_type": "stream",
     "text": [
      "Loading 8 submissions\n"
     ]
    },
    {
     "name": "stderr",
     "output_type": "stream",
     "text": [
      "Loading submissions: 100%|██████████| 8/8 [00:00<00:00, 29203.16it/s]\n"
     ]
    },
    {
     "name": "stdout",
     "output_type": "stream",
     "text": [
      "Successfully loaded 8 submissions\n",
      "Querying SEC filings...\n",
      "None\n",
      "QUERY: CIK=[1703056], Type=10-K\n"
     ]
    },
    {
     "name": "stderr",
     "output_type": "stream",
     "text": [
      "Fetching data (page 1): : 1 page [00:01<00:00,  1.26s/page, cost=$0.00 | balance=$301.75]"
     ]
    },
    {
     "name": "stdout",
     "output_type": "stream",
     "text": [
      "Retrieved 8 records (page 1) - Fetching additional pages...\n",
      "\n",
      "Query complete:\n",
      "- Retrieved 8 filings across 1 pages\n",
      "- Total cost: $0.00\n",
      "- Remaining balance: $301.75\n",
      "- Time: 1.3 seconds\n",
      "Generating URLs for 0 filings...\n",
      "No submissions found matching the criteria\n"
     ]
    },
    {
     "name": "stderr",
     "output_type": "stream",
     "text": [
      "\n"
     ]
    }
   ],
   "source": [
    "from datamule import Portfolio\n",
    "import pandas as pd\n",
    "\n",
    "# get data\n",
    "portfolio = Portfolio(\"adt\")\n",
    "portfolio.download_submissions(submission_type='10-K',document_type='10-K',ticker='ADT')\n",
    "\n"
   ]
  },
  {
   "cell_type": "code",
   "execution_count": 2,
   "id": "84fc8722",
   "metadata": {},
   "outputs": [
    {
     "name": "stdout",
     "output_type": "stream",
     "text": [
      "Loading 8 submissions\n"
     ]
    },
    {
     "name": "stderr",
     "output_type": "stream",
     "text": [
      "Loading submissions: 100%|██████████| 8/8 [00:00<00:00, 20348.35it/s]"
     ]
    },
    {
     "name": "stdout",
     "output_type": "stream",
     "text": [
      "Successfully loaded 8 submissions\n"
     ]
    },
    {
     "name": "stderr",
     "output_type": "stream",
     "text": [
      "\n"
     ]
    },
    {
     "name": "stdout",
     "output_type": "stream",
     "text": [
      "      val        date\n",
      "2    0.84  2016-12-31\n",
      "10   0.22  2017-03-31\n",
      "11   0.14  2017-06-30\n",
      "12   0.10  2017-09-30\n",
      "13   1.00  2017-12-31\n",
      "1    0.53  2017-12-31\n",
      "6    0.22  2018-03-31\n",
      "7    0.09  2018-06-30\n",
      "8    0.31  2018-09-30\n",
      "22      —  2018-12-31\n",
      "0    0.81  2018-12-31\n",
      "9    0.20  2018-12-31\n",
      "37   0.09  2019-03-31\n",
      "38   0.14  2019-06-30\n",
      "39   0.25  2019-09-30\n",
      "40   0.10  2019-12-31\n",
      "18   0.57  2019-12-31\n",
      "21      —  2019-12-31\n",
      "29   0.40  2020-03-31\n",
      "33      —  2020-03-31\n",
      "30   0.14  2020-06-30\n",
      "34      —  2020-06-30\n",
      "35   0.05  2020-09-30\n",
      "31   0.15  2020-09-30\n",
      "32   0.14  2020-12-31\n",
      "20   0.72  2020-12-31\n",
      "17   0.82  2020-12-31\n",
      "47   0.41  2021-12-31\n",
      "103  0.06  2022-03-31\n",
      "104  0.10  2022-06-30\n",
      "105  0.18  2022-09-30\n",
      "65   0.19  2022-12-31\n",
      "106  0.17  2022-12-31\n",
      "84   0.15  2022-12-31\n",
      "95   0.13  2023-03-31\n",
      "96   0.10  2023-06-30\n",
      "97   0.09  2023-09-30\n",
      "83   0.51  2023-12-31\n",
      "98   0.62  2023-12-31\n",
      "134  0.63  2023-12-31\n",
      "123  0.10  2024-03-31\n",
      "124  0.10  2024-06-30\n",
      "125  0.14  2024-09-30\n",
      "126  0.21  2024-12-31\n",
      "111  0.56  2024-12-31\n"
     ]
    }
   ],
   "source": [
    "# parse data\n",
    "xbrl = []\n",
    "for document in portfolio.document_type('10-K'):\n",
    "    document.parse_xbrl()\n",
    "    xbrl.extend(document.xbrl)\n",
    "\n",
    "# filter by name\n",
    "basic = [{'val':item['_val'],'date':item['_context']['context_period_enddate']} for item in xbrl if item['_attributes']['name']=='us-gaap:EarningsPerShareBasic']\n",
    "# keep unique and send to pandas dataframe\n",
    "df = pd.DataFrame(basic).drop_duplicates().sort_values('date')\n",
    "print(df)"
   ]
  }
 ],
 "metadata": {
  "kernelspec": {
   "display_name": "Python 3",
   "language": "python",
   "name": "python3"
  },
  "language_info": {
   "codemirror_mode": {
    "name": "ipython",
    "version": 3
   },
   "file_extension": ".py",
   "mimetype": "text/x-python",
   "name": "python",
   "nbconvert_exporter": "python",
   "pygments_lexer": "ipython3",
   "version": "3.13.2"
  }
 },
 "nbformat": 4,
 "nbformat_minor": 5
}
