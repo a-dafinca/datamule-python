{
 "cells": [
  {
   "cell_type": "code",
   "execution_count": null,
   "id": "81a37422",
   "metadata": {},
   "outputs": [
    {
     "name": "stdout",
     "output_type": "stream",
     "text": [
      "Loading submissions\n",
      "Successfully loaded 0 submissions\n",
      "QUERY: CIK=[874761], Type=['10-Q', '10-K'], Date=20220101 to 20241231, Columns=['accessionNumber'], DISTINCT=True\n"
     ]
    },
    {
     "name": "stderr",
     "output_type": "stream",
     "text": [
      "Fetching data (page 1): : 1 page [00:01<00:00,  1.06s/page, cost=$0.0001 | balance=$4744.75]\n"
     ]
    },
    {
     "name": "stdout",
     "output_type": "stream",
     "text": [
      "Retrieved 12 records (page 1) - Fetching additional pages...\n",
      "\n",
      "Query complete:\n",
      "- Retrieved 12 records across 1 pages\n",
      "- Total cost: $0.0001\n",
      "- Remaining balance: $4744.75\n",
      "- Time: 1.1 seconds\n"
     ]
    },
    {
     "name": "stderr",
     "output_type": "stream",
     "text": [
      "Processing files: 100%|██████████| 12/12 [00:03<00:00,  3.15it/s]\n"
     ]
    },
    {
     "name": "stdout",
     "output_type": "stream",
     "text": [
      "Loading submissions\n"
     ]
    },
    {
     "name": "stderr",
     "output_type": "stream",
     "text": [
      "Loading batch submissions: 12submissions [00:00, 452.64submissions/s]\n"
     ]
    },
    {
     "name": "stdout",
     "output_type": "stream",
     "text": [
      "Successfully loaded 12 submissions\n",
      "10-K filed on 20220228: Quarter FY (2021-01-01 to 2021-12-31)\n",
      "10-Q filed on 20220505: Quarter Q1 (2022-01-01 to 2022-03-31)\n",
      "10-Q filed on 20220804: Quarter Q2 (2022-01-01 to 2022-06-30)\n",
      "10-Q filed on 20221104: Quarter Q2 (2022-01-01 to 2022-09-30)\n",
      "10-K filed on 20230301: Quarter FY (2022-01-01 to 2022-12-31)\n",
      "10-Q filed on 20230504: Quarter Q2 (2023-01-01 to 2023-03-31)\n",
      "10-Q filed on 20230803: Quarter Q2 (2023-01-01 to 2023-06-30)\n",
      "10-Q filed on 20231102: Quarter Q2 (2023-01-01 to 2023-09-30)\n",
      "10-K filed on 20240226: Quarter FY (2023-01-01 to 2023-12-31)\n",
      "10-Q filed on 20240502: Quarter Q2 (2024-01-01 to 2024-03-31)\n",
      "10-Q filed on 20240801: Quarter Q2 (2024-01-01 to 2024-06-30)\n",
      "10-Q filed on 20241031: Quarter Q3 (2024-01-01 to 2024-09-30)\n"
     ]
    }
   ],
   "source": [
    "# made for https://www.reddit.com/r/algotrading/comments/1lxf7ga/xbrl_deidocumentfiscalperiodfocus_help_needed/\n",
    "\n",
    "from datamule import Portfolio\n",
    "import pandas as pd\n",
    "\n",
    "# get data\n",
    "portfolio = Portfolio(\"aes\")\n",
    "portfolio.download_submissions(submission_type=['10-Q','10-K'],document_type=['10-Q','10-K'],\n",
    "                               cik=['874761'], filing_date=('2022-01-01','2024-12-31'))\n",
    "\n",
    "\n",
    "fiscal_period_focus_list = []\n",
    "for sub in portfolio:\n",
    "    filing_date = sub.metadata.content['filing-date']\n",
    "    for doc in sub.document_type(['10-Q','10-K']):\n",
    "        doc.parse_xbrl()\n",
    "        basic = [{'quarter':item['_val'],'period_start':item['_context']['context_period_startdate'], 'period_end':item['_context']['context_period_enddate']\n",
    "                  } for item in doc.xbrl if item['_attributes']['name']=='dei:DocumentFiscalPeriodFocus']\n",
    "        \n",
    "        \n",
    "        fiscal_period_focus_list.append([{**item, 'type': doc.type, 'filing_date': filing_date} for item in basic])\n",
    "\n",
    "\n",
    "# sort basic\n",
    "fiscal_period_focus_list = sorted([item for sublist in fiscal_period_focus_list for item in sublist], key=lambda x: x['filing_date'])\n",
    "\n",
    "for item in fiscal_period_focus_list:\n",
    "    print(f\"{item['type']} filed on {item['filing_date']}: Quarter {item['quarter']} ({item['period_start']} to {item['period_end']})\")"
   ]
  }
 ],
 "metadata": {
  "kernelspec": {
   "display_name": "Python 3",
   "language": "python",
   "name": "python3"
  },
  "language_info": {
   "codemirror_mode": {
    "name": "ipython",
    "version": 3
   },
   "file_extension": ".py",
   "mimetype": "text/x-python",
   "name": "python",
   "nbconvert_exporter": "python",
   "pygments_lexer": "ipython3",
   "version": "3.13.2"
  }
 },
 "nbformat": 4,
 "nbformat_minor": 5
}
