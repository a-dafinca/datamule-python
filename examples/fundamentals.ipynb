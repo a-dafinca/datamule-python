{
 "cells": [
  {
   "cell_type": "code",
   "execution_count": 4,
   "id": "97ac1d9e",
   "metadata": {},
   "outputs": [
    {
     "name": "stdout",
     "output_type": "stream",
     "text": [
      "Loading submissions\n"
     ]
    },
    {
     "name": "stderr",
     "output_type": "stream",
     "text": [
      "Loading batch submissions: 12submissions [00:00, 457.48submissions/s]"
     ]
    },
    {
     "name": "stdout",
     "output_type": "stream",
     "text": [
      "Successfully loaded 12 submissions\n",
      "             section                     metric      value period_start_date  \\\n",
      "0       balanceSheet         cashAndEquivalents        943        2021-12-31   \n",
      "1       balanceSheet         cashAndEquivalents      1,089        2020-12-31   \n",
      "2       balanceSheet         cashAndEquivalents        943        2021-12-31   \n",
      "3       balanceSheet         cashAndEquivalents      1,089        2020-12-31   \n",
      "4       balanceSheet         cashAndEquivalents        943        2021-12-31   \n",
      "..               ...                        ...        ...               ...   \n",
      "447  OperationRatios               pretaxMargin   2.636364        2020-01-01   \n",
      "448  OperationRatios               pretaxMargin  50.833333        2019-01-01   \n",
      "449  OperationRatios  normalizedNetProfitMargin  27.266667        2021-01-01   \n",
      "450  OperationRatios  normalizedNetProfitMargin   4.181818        2020-01-01   \n",
      "451  OperationRatios  normalizedNetProfitMargin       50.5        2019-01-01   \n",
      "\n",
      "    period_end_date  \n",
      "0              None  \n",
      "1              None  \n",
      "2              None  \n",
      "3              None  \n",
      "4              None  \n",
      "..              ...  \n",
      "447      2020-12-31  \n",
      "448      2019-12-31  \n",
      "449      2021-12-31  \n",
      "450      2020-12-31  \n",
      "451      2019-12-31  \n",
      "\n",
      "[452 rows x 5 columns]\n"
     ]
    },
    {
     "name": "stderr",
     "output_type": "stream",
     "text": [
      "\n"
     ]
    },
    {
     "name": "stdout",
     "output_type": "stream",
     "text": [
      "             section                     metric      value period_start_date  \\\n",
      "0       balanceSheet         cashAndEquivalents      1,426        2023-12-31   \n",
      "1       balanceSheet         cashAndEquivalents      1,374        2022-12-31   \n",
      "2       balanceSheet         cashAndEquivalents      1,426        2023-12-31   \n",
      "3       balanceSheet         cashAndEquivalents      1,374        2022-12-31   \n",
      "4       balanceSheet         cashAndEquivalents        1.4        2023-12-31   \n",
      "..               ...                        ...        ...               ...   \n",
      "392  OperationRatios               pretaxMargin  17.033333        2022-01-01   \n",
      "393  OperationRatios               pretaxMargin   7.428571        2021-01-01   \n",
      "394  OperationRatios  normalizedNetProfitMargin   8.032258        2023-01-01   \n",
      "395  OperationRatios  normalizedNetProfitMargin       18.2        2022-01-01   \n",
      "396  OperationRatios  normalizedNetProfitMargin  14.607143        2021-01-01   \n",
      "\n",
      "    period_end_date  \n",
      "0              None  \n",
      "1              None  \n",
      "2              None  \n",
      "3              None  \n",
      "4              None  \n",
      "..              ...  \n",
      "392      2022-12-31  \n",
      "393      2021-12-31  \n",
      "394      2023-12-31  \n",
      "395      2022-12-31  \n",
      "396      2021-12-31  \n",
      "\n",
      "[397 rows x 5 columns]\n",
      "             section                     metric      value period_start_date  \\\n",
      "0       balanceSheet         cashAndEquivalents      1,374        2022-12-31   \n",
      "1       balanceSheet         cashAndEquivalents        943        2021-12-31   \n",
      "2       balanceSheet         cashAndEquivalents      1,374        2022-12-31   \n",
      "3       balanceSheet         cashAndEquivalents        943        2021-12-31   \n",
      "4       balanceSheet         cashAndEquivalents        1.4        2022-12-31   \n",
      "..               ...                        ...        ...               ...   \n",
      "439  OperationRatios               pretaxMargin  13.866667        2021-01-01   \n",
      "440  OperationRatios               pretaxMargin   2.636364        2020-01-01   \n",
      "441  OperationRatios  normalizedNetProfitMargin       27.3        2022-01-01   \n",
      "442  OperationRatios  normalizedNetProfitMargin  27.266667        2021-01-01   \n",
      "443  OperationRatios  normalizedNetProfitMargin   4.181818        2020-01-01   \n",
      "\n",
      "    period_end_date  \n",
      "0              None  \n",
      "1              None  \n",
      "2              None  \n",
      "3              None  \n",
      "4              None  \n",
      "..              ...  \n",
      "439      2021-12-31  \n",
      "440      2020-12-31  \n",
      "441      2022-12-31  \n",
      "442      2021-12-31  \n",
      "443      2020-12-31  \n",
      "\n",
      "[444 rows x 5 columns]\n"
     ]
    }
   ],
   "source": [
    "from datamule import Portfolio\n",
    "import pandas as pd\n",
    "\n",
    "# get data\n",
    "portfolio = Portfolio(\"aes\")\n",
    "\n",
    "for sub in portfolio:\n",
    "    for doc in sub.document_type('10-K'):\n",
    "        doc.parse_fundamentals()\n",
    "\n",
    "        # Convert to DataFrame\n",
    "        records = []\n",
    "        for section, metrics in doc.fundamentals.items():\n",
    "            for metric, values in metrics.items():\n",
    "                for record in values:\n",
    "                    records.append({'section': section, 'metric': metric, **record})\n",
    "\n",
    "        df = pd.DataFrame(records)\n",
    "        print(df)\n"
   ]
  }
 ],
 "metadata": {
  "kernelspec": {
   "display_name": "Python 3",
   "language": "python",
   "name": "python3"
  },
  "language_info": {
   "codemirror_mode": {
    "name": "ipython",
    "version": 3
   },
   "file_extension": ".py",
   "mimetype": "text/x-python",
   "name": "python",
   "nbconvert_exporter": "python",
   "pygments_lexer": "ipython3",
   "version": "3.13.2"
  }
 },
 "nbformat": 4,
 "nbformat_minor": 5
}
